{
 "cells": [
  {
   "cell_type": "markdown",
   "metadata": {},
   "source": [
    "# Confidence Intervals"
   ]
  },
  {
   "cell_type": "code",
   "execution_count": 14,
   "metadata": {},
   "outputs": [],
   "source": [
    "# Libraries\n",
    "import math\n",
    "from scipy.stats import norm\n",
    "import matplotlib.pyplot as plt\n",
    "import numpy as np\n",
    "import seaborn as sns\n",
    "from scipy import stats\n",
    "import pandas as pd\n",
    "from statsmodels.stats.proportion import proportion_confint"
   ]
  },
  {
   "cell_type": "markdown",
   "metadata": {},
   "source": [
    "## Challenge 1\n",
    "We want to estimate the average size of the men of a country with a confidence level of 80%. Assuming that the standard deviation of the sizes in the population is 4, get the confidence interval with a sample of men selected randomly, whose heights are:\n",
    "\n",
    "````\n",
    "heights = [167, 167, 168, 168, 168, 169, 171, 172, 173, 175, 175, 175, 177, 182, 195]\n",
    "````\n",
    "\n",
    "**Hint**: function `stats.norm.interval` from `scipy` can help you get through this exercise. "
   ]
  },
  {
   "cell_type": "code",
   "execution_count": 2,
   "metadata": {},
   "outputs": [],
   "source": [
    "# your code here\n",
    "heights = [167, 167, 168, 168, 168, 169, 171, 172, 173, 175, 175, 175, 177, 182, 195]"
   ]
  },
  {
   "cell_type": "code",
   "execution_count": 5,
   "metadata": {},
   "outputs": [
    {
     "data": {
      "text/plain": [
       "7.107429602574728"
      ]
     },
     "execution_count": 5,
     "metadata": {},
     "output_type": "execute_result"
    }
   ],
   "source": [
    "std_pop = 4\n",
    "std_sample = np.std(heights)\n",
    "std_sample"
   ]
  },
  {
   "cell_type": "code",
   "execution_count": 6,
   "metadata": {},
   "outputs": [
    {
     "data": {
      "text/plain": [
       "1.0327955589886444"
      ]
     },
     "execution_count": 6,
     "metadata": {},
     "output_type": "execute_result"
    }
   ],
   "source": [
    "std_sample_m = std_pop /math.sqrt(len(heights))\n",
    "std_sample_m"
   ]
  },
  {
   "cell_type": "code",
   "execution_count": 7,
   "metadata": {},
   "outputs": [
    {
     "name": "stdout",
     "output_type": "stream",
     "text": [
      "1.2815515655446004 173.46666666666667\n"
     ]
    }
   ],
   "source": [
    "# Computing the terms\n",
    "confidence_level = 0.80\n",
    "z = stats.norm.interval(confidence_level)[1]\n",
    "sample_mean = np.mean(heights)\n",
    "\n",
    "print(z,sample_mean)"
   ]
  },
  {
   "cell_type": "code",
   "execution_count": 8,
   "metadata": {},
   "outputs": [
    {
     "name": "stdout",
     "output_type": "stream",
     "text": [
      "With 80.0% confidence, the true mean lies within the inverval: [172.14308590115726, 174.79024743217607]\n"
     ]
    }
   ],
   "source": [
    "con_int = [sample_mean - (z * std_sample_m) , sample_mean + (z * std_sample_m)]\n",
    "print('With ' + str(confidence_level * 100) + '% confidence, the true mean lies within the inverval:', con_int)"
   ]
  },
  {
   "cell_type": "code",
   "execution_count": 9,
   "metadata": {},
   "outputs": [
    {
     "data": {
      "text/plain": [
       "(172.14308590115726, 174.79024743217607)"
      ]
     },
     "execution_count": 9,
     "metadata": {},
     "output_type": "execute_result"
    }
   ],
   "source": [
    "norm(sample_mean,std_sample_m).interval(0.8)"
   ]
  },
  {
   "cell_type": "markdown",
   "metadata": {},
   "source": [
    "## Challenge 2 \n",
    "In a sample of 105 shops selected randomly from an area, we note that 27 of them have had losses in this month. Get an interval for the proportion of businesses in the area with losses to a confidence level of 80% and a confidence level of 90%.\n",
    "\n",
    "**Hint**: function `stats.norm.interval` from `scipy` can help you get through this exercise. "
   ]
  },
  {
   "cell_type": "code",
   "execution_count": 10,
   "metadata": {},
   "outputs": [],
   "source": [
    "# your code here\n",
    "# t-score\n",
    "n = 105\n",
    "p = 27/105\n",
    "q = 1 - p\n",
    "std_pop = math.sqrt(p*q/n)"
   ]
  },
  {
   "cell_type": "code",
   "execution_count": 11,
   "metadata": {},
   "outputs": [
    {
     "name": "stdout",
     "output_type": "stream",
     "text": [
      "With 80.0% confidence, the true mean lies within the inverval: [0.20248138545542083, 0.3118043288302934]\n"
     ]
    }
   ],
   "source": [
    "#80% confidence\n",
    "confidence_level = 0.80\n",
    "z = stats.norm.interval(confidence_level)[1]\n",
    "sample_mean = p\n",
    "con_int = [sample_mean - (z * std_pop) , sample_mean + (z * std_pop)]\n",
    "print('With ' + str(confidence_level * 100) + '% confidence, the true mean lies within the inverval:', con_int)"
   ]
  },
  {
   "cell_type": "code",
   "execution_count": 12,
   "metadata": {},
   "outputs": [
    {
     "data": {
      "text/plain": [
       "(0.20248138545542083, 0.3118043288302934)"
      ]
     },
     "execution_count": 12,
     "metadata": {},
     "output_type": "execute_result"
    }
   ],
   "source": [
    "norm(sample_mean,std_pop).interval(0.8)"
   ]
  },
  {
   "cell_type": "code",
   "execution_count": 13,
   "metadata": {},
   "outputs": [
    {
     "name": "stdout",
     "output_type": "stream",
     "text": [
      "With 90.0% confidence, the true mean lies within the inverval: [0.18698561776452813, 0.3273000965211861]\n"
     ]
    }
   ],
   "source": [
    "#90% confidence\n",
    "confidence_level = 0.90\n",
    "z = stats.norm.interval(confidence_level)[1]\n",
    "sample_mean = p\n",
    "con_int = [sample_mean - (z * std_pop) , sample_mean + (z * std_pop)]\n",
    "print('With ' + str(confidence_level * 100) + '% confidence, the true mean lies within the inverval:', con_int)"
   ]
  },
  {
   "cell_type": "code",
   "execution_count": 15,
   "metadata": {},
   "outputs": [
    {
     "data": {
      "text/plain": [
       "(0.20248138545542083, 0.3118043288302934)"
      ]
     },
     "execution_count": 15,
     "metadata": {},
     "output_type": "execute_result"
    }
   ],
   "source": [
    "proportion_confint(27,105,0.2)"
   ]
  },
  {
   "cell_type": "code",
   "execution_count": 16,
   "metadata": {},
   "outputs": [
    {
     "data": {
      "text/plain": [
       "(0.1869856177645281, 0.32730009652118613)"
      ]
     },
     "execution_count": 16,
     "metadata": {},
     "output_type": "execute_result"
    }
   ],
   "source": [
    "proportion_confint(27,105,0.1)"
   ]
  },
  {
   "cell_type": "markdown",
   "metadata": {},
   "source": [
    "## Bonus Challenge\n",
    "The error level or sampling error for the first challenge is given by the following expression:\n",
    "$$Error = z_{\\frac{\\alpha}{2}}\\frac{\\sigma}{\\sqrt n}$$\n",
    "Where z represents the value for N(0,1)\n",
    "\n",
    "\n",
    "Suppose that with the previous data of challenge 1, and with a confidence level of\n",
    "99% (that is, almost certainly) we want to estimate the average population size, so that the error level committed is not greater than half a centimeter.\n",
    "\n",
    "#### 1.- Determine what size the selected sample of men should be."
   ]
  },
  {
   "cell_type": "code",
   "execution_count": 18,
   "metadata": {},
   "outputs": [
    {
     "name": "stdout",
     "output_type": "stream",
     "text": [
      "With 99.0% confidence, the true mean lies within the inverval: [155.15914122344378, 191.77419210988955]\n"
     ]
    }
   ],
   "source": [
    "# your code here\n",
    "confidence_level = 0.99\n",
    "z = stats.norm.interval(confidence_level)[1]\n",
    "sample_mean = np.mean(heights)\n",
    "con_int = [sample_mean - (z * std_sample) , sample_mean + (z * std_sample)]\n",
    "print('With ' + str(confidence_level * 100) + '% confidence, the true mean lies within the inverval:', con_int)"
   ]
  },
  {
   "cell_type": "code",
   "execution_count": 19,
   "metadata": {},
   "outputs": [
    {
     "data": {
      "text/plain": [
       "504.271936"
      ]
     },
     "execution_count": 19,
     "metadata": {},
     "output_type": "execute_result"
    }
   ],
   "source": [
    "std_pop = 4\n",
    "marg_of_error = 0.5\n",
    "\n",
    "#marg_of_error = Z(99,5)*std_pop / np.sqrt(n)\n",
    "#np.sqrt(n)*marg_of_error = Z(99,5)*std_pop\n",
    "#np.sqrt(n)= Z(99,5)*std_pop/marg_of_error \n",
    "\n",
    "Z_99_5 = 2.807\n",
    "\n",
    "npsqrtn = std_pop * Z_99_5 / marg_of_error \n",
    "n = npsqrtn * npsqrtn\n",
    "n"
   ]
  },
  {
   "cell_type": "markdown",
   "metadata": {},
   "source": [
    "#### 2.- For the second challenge, we have the following error:\n",
    "$$ Error = z_{\\frac{\\alpha}{2}}\\sqrt{\\frac{p\\times q}{n}} $$\n",
    "#### Determine the sample size required to not exceed an error of 1% with a confidence of 80%."
   ]
  },
  {
   "cell_type": "code",
   "execution_count": 20,
   "metadata": {},
   "outputs": [],
   "source": [
    "# your code here\n",
    "n = 105\n",
    "p = 27/105\n",
    "q = 1 - p\n",
    "std_pop = math.sqrt(p*q/n)\n",
    "\n",
    "\n",
    "marg_of_error_B = std_pop / np.sqrt(105)"
   ]
  },
  {
   "cell_type": "markdown",
   "metadata": {},
   "source": [
    "## Bonus Challenge\n",
    "\n",
    "Let's consider the following problem:\n",
    "\n",
    "Build a confidence interval of 94% for the real difference between the durations of two brands of spotlights, if a sample of 40 spotlights taken randomly from the first mark gave an average duration of 418 hours, and a sample of 50 bulbs of another brand gave a duration average of 402 hours. The standard deviations of the two\n",
    "populations are 26 hours and 22 hours, respectively.\n",
    "\n",
    "Sometimes, we will be interested in the difference of two different groups of random variables. We can also build a confidence interval for that! We have some different cases regarding the variance but for this specific case (the variance are different and known), we have that:\n",
    "\n",
    "$$\\overline{X} - \\overline{Y}  \\sim N(\\mu_{X} - \\mu_{Y} , \\sqrt{\\frac{\\sigma_{X}^2}{n_X}+\\frac{\\sigma_{Y}^2}{n_Y}})$$\n",
    "\n",
    "Solve the problem with this information."
   ]
  },
  {
   "cell_type": "code",
   "execution_count": 21,
   "metadata": {},
   "outputs": [
    {
     "data": {
      "text/plain": [
       "(16, 1.044030650891055)"
      ]
     },
     "execution_count": 21,
     "metadata": {},
     "output_type": "execute_result"
    }
   ],
   "source": [
    "# your code here\n",
    "mean_x = 418\n",
    "mean_y = 402\n",
    "std_x = 26\n",
    "std_y = 22\n",
    "n_x = 40\n",
    "n_y = 50\n",
    "n_1 = mean_x - mean_y\n",
    "n_2 = math.sqrt((std_x/n_x)+(std_y/n_y))\n",
    "n_1, n_2"
   ]
  },
  {
   "cell_type": "code",
   "execution_count": 22,
   "metadata": {},
   "outputs": [],
   "source": [
    "normal1 = np.random.normal(n_1, n_2, 50)"
   ]
  },
  {
   "cell_type": "code",
   "execution_count": 23,
   "metadata": {},
   "outputs": [
    {
     "data": {
      "text/plain": [
       "array([15.64981486, 14.53467592, 13.82975757, 14.90924186, 14.79801658,\n",
       "       17.1149088 , 16.71338256, 15.57716274, 16.84842117, 17.81555389,\n",
       "       16.4182742 , 16.59708289, 15.98365366, 15.64126244, 18.19535358,\n",
       "       17.10760479, 15.37844908, 15.43886387, 15.54512199, 15.78458672,\n",
       "       16.2999274 , 15.60437187, 16.95877415, 15.48969478, 15.73929073,\n",
       "       13.95753841, 14.98291051, 15.77119365, 16.39391204, 15.58284811,\n",
       "       17.65962889, 16.11843404, 15.62717033, 15.83279365, 15.73199853,\n",
       "       15.6651785 , 17.28968046, 14.65965599, 17.17276273, 15.56907984,\n",
       "       15.24096178, 17.19940479, 16.44341275, 14.95439638, 16.45743013,\n",
       "       16.04270653, 16.31636613, 15.21074873, 14.95600703, 15.2491615 ])"
      ]
     },
     "execution_count": 23,
     "metadata": {},
     "output_type": "execute_result"
    }
   ],
   "source": [
    "normal1"
   ]
  },
  {
   "cell_type": "code",
   "execution_count": 24,
   "metadata": {},
   "outputs": [],
   "source": [
    "confidence_level = 0.94"
   ]
  },
  {
   "cell_type": "code",
   "execution_count": 26,
   "metadata": {},
   "outputs": [
    {
     "data": {
      "text/plain": [
       "1.8807936081512509"
      ]
     },
     "execution_count": 26,
     "metadata": {},
     "output_type": "execute_result"
    }
   ],
   "source": [
    "z = stats.norm.interval(confidence_level)[1]\n",
    "z"
   ]
  },
  {
   "cell_type": "code",
   "execution_count": 29,
   "metadata": {},
   "outputs": [
    {
     "data": {
      "text/plain": [
       "[14.036393825090114, 17.963606174909888]"
      ]
     },
     "execution_count": 29,
     "metadata": {},
     "output_type": "execute_result"
    }
   ],
   "source": [
    "con_int = [n_1 - (z * n_2) , n_1 + (z * n_2)]\n",
    "con_int"
   ]
  }
 ],
 "metadata": {
  "kernelspec": {
   "display_name": "Python 3",
   "language": "python",
   "name": "python3"
  },
  "language_info": {
   "codemirror_mode": {
    "name": "ipython",
    "version": 3
   },
   "file_extension": ".py",
   "mimetype": "text/x-python",
   "name": "python",
   "nbconvert_exporter": "python",
   "pygments_lexer": "ipython3",
   "version": "3.8.5"
  }
 },
 "nbformat": 4,
 "nbformat_minor": 4
}
